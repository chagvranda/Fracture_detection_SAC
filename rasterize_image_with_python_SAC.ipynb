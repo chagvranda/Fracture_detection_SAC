{
  "nbformat": 4,
  "nbformat_minor": 0,
  "metadata": {
    "colab": {
      "provenance": []
    },
    "kernelspec": {
      "name": "python3",
      "display_name": "Python 3"
    },
    "language_info": {
      "name": "python"
    }
  },
  "cells": [
    {
      "cell_type": "code",
      "execution_count": 1,
      "metadata": {
        "colab": {
          "base_uri": "https://localhost:8080/",
          "height": 373
        },
        "id": "r5hXvVB11rkJ",
        "outputId": "7289edc6-ebe7-413d-e518-fb70a42c5bdf"
      },
      "outputs": [
        {
          "output_type": "error",
          "ename": "ModuleNotFoundError",
          "evalue": "ignored",
          "traceback": [
            "\u001b[0;31m---------------------------------------------------------------------------\u001b[0m",
            "\u001b[0;31mModuleNotFoundError\u001b[0m                       Traceback (most recent call last)",
            "\u001b[0;32m<ipython-input-1-03908ba959bd>\u001b[0m in \u001b[0;36m<module>\u001b[0;34m\u001b[0m\n\u001b[0;32m----> 1\u001b[0;31m \u001b[0;32mimport\u001b[0m \u001b[0mgdal\u001b[0m\u001b[0;34m\u001b[0m\u001b[0;34m\u001b[0m\u001b[0m\n\u001b[0m\u001b[1;32m      2\u001b[0m \u001b[0;32mimport\u001b[0m \u001b[0mogr\u001b[0m\u001b[0;34m\u001b[0m\u001b[0;34m\u001b[0m\u001b[0m\n\u001b[1;32m      3\u001b[0m \u001b[0;34m\u001b[0m\u001b[0m\n\u001b[1;32m      4\u001b[0m \u001b[0mfn_ras\u001b[0m \u001b[0;34m=\u001b[0m \u001b[0;34m'path/to/raster'\u001b[0m \u001b[0;31m#original image\u001b[0m\u001b[0;34m\u001b[0m\u001b[0;34m\u001b[0m\u001b[0m\n\u001b[1;32m      5\u001b[0m \u001b[0mfn_vec\u001b[0m \u001b[0;34m=\u001b[0m \u001b[0;34m'path/to/vector'\u001b[0m \u001b[0;31m#shape file\u001b[0m\u001b[0;34m\u001b[0m\u001b[0;34m\u001b[0m\u001b[0m\n",
            "\u001b[0;31mModuleNotFoundError\u001b[0m: No module named 'gdal'",
            "",
            "\u001b[0;31m---------------------------------------------------------------------------\u001b[0;32m\nNOTE: If your import is failing due to a missing package, you can\nmanually install dependencies using either !pip or !apt.\n\nTo view examples of installing some common dependencies, click the\n\"Open Examples\" button below.\n\u001b[0;31m---------------------------------------------------------------------------\u001b[0m\n"
          ],
          "errorDetails": {
            "actions": [
              {
                "action": "open_url",
                "actionText": "Open Examples",
                "url": "/notebooks/snippets/importing_libraries.ipynb"
              }
            ]
          }
        }
      ],
      "source": [
        "import gdal\n",
        "import ogr\n",
        "\n",
        "fn_ras = 'path/to/raster' #original image\n",
        "fn_vec = 'path/to/vector' #shape file\n",
        "\n",
        "ras_ds = gdal.Open(fn_ras)\n",
        "vec_ds = gdal.Open(fn_vec)\n",
        "lyr = vec_ds.GetLayer()\n",
        "\n",
        "geot = ras_ds.GetGeoTransform()"
      ]
    },
    {
      "cell_type": "code",
      "source": [
        "drv_tiff = gdal.GetDriverByName(\"GTiff\")\n",
        "chn_ras_ds = drv_tiff.Create(out_net, ras_ds .RasterXSize, ras_ds .RasterYSize, 1, gdal.GDT_Float32)\n",
        "chn_ras_ds.SetGeoTransform(geot)"
      ],
      "metadata": {
        "id": "4CT5pQMp2Q5i"
      },
      "execution_count": null,
      "outputs": []
    },
    {
      "cell_type": "code",
      "source": [
        "gdal.RasterizeLayer(chn_ras_ds, [1], lyr)\n",
        "chn_ras_ds.GetRasterBand(1).SetNoDataValue(0.0)\n",
        "chn_ras_ds = None"
      ],
      "metadata": {
        "id": "B19FRqx_2RkR"
      },
      "execution_count": null,
      "outputs": []
    },
    {
      "cell_type": "code",
      "source": [
        "#rasterize by attribute\n",
        "gdal.RasterizeLayer(chn_ras_ds, [1], lyr, options=['ATTRIBUTE=chn_id'])\n",
        "chn_ras_ds.GetRasterBand(1).SetNoDataValue(0.0)\n",
        "chn_ras_ds = None"
      ],
      "metadata": {
        "id": "MKiWz5nI2UR-"
      },
      "execution_count": null,
      "outputs": []
    }
  ]
}