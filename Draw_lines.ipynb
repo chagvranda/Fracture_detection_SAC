{
  "nbformat": 4,
  "nbformat_minor": 0,
  "metadata": {
    "colab": {
      "provenance": [],
      "include_colab_link": true
    },
    "kernelspec": {
      "name": "python3",
      "display_name": "Python 3"
    },
    "language_info": {
      "name": "python"
    }
  },
  "cells": [
    {
      "cell_type": "markdown",
      "metadata": {
        "id": "view-in-github",
        "colab_type": "text"
      },
      "source": [
        "<a href=\"https://colab.research.google.com/github/chagvranda/Fracture_detection_SAC/blob/main/Draw_lines.ipynb\" target=\"_parent\"><img src=\"https://colab.research.google.com/assets/colab-badge.svg\" alt=\"Open In Colab\"/></a>"
      ]
    },
    {
      "cell_type": "code",
      "execution_count": null,
      "metadata": {
        "id": "nxmwVFKHm7kO"
      },
      "outputs": [],
      "source": [
        "import cv2\n",
        "import matplotlib.pyplot as plt\n",
        "import numpy as np\n",
        "from google.colab.patches import cv2_imshow\n",
        "import csv\n"
      ]
    },
    {
      "cell_type": "code",
      "source": [
        "img = np.zeros((870, 636), dtype = np.uint8)"
      ],
      "metadata": {
        "id": "miGpt0rFnNQq"
      },
      "execution_count": null,
      "outputs": []
    },
    {
      "cell_type": "code",
      "source": [
        "cv2_imshow(img)"
      ],
      "metadata": {
        "colab": {
          "base_uri": "https://localhost:8080/",
          "height": 887
        },
        "id": "T90TmKmNnVj1",
        "outputId": "c675b869-0e9d-484b-fcc0-038ef656e03e"
      },
      "execution_count": null,
      "outputs": [
        {
          "output_type": "display_data",
          "data": {
            "text/plain": [
              "<PIL.Image.Image image mode=L size=636x870 at 0x7FE1BA9E94F0>"
            ],
            "image/png": "[encoded data removed]"
          },
          "metadata": {}
        }
      ]
    },
    {
      "cell_type": "code",
      "source": [
        "file = open('siwana_half2_elsed.csv')\n"
      ],
      "metadata": {
        "id": "W_Mr2cRhsAaJ"
      },
      "execution_count": null,
      "outputs": []
    },
    {
      "cell_type": "code",
      "source": [
        "csvreader = csv.reader(file)\n",
        "#header = []\n",
        "#header = next(csvreader)\n",
        "\n",
        "i=0\n",
        "for row in csvreader:\n",
        "  if i>=5:\n",
        "    break\n",
        "  print(row)\n",
        "  cv2.line(img,(int(row[0]),int(row[1])),(int(row[2]),int(row[3])), (255,255,255) ,1, cv2.LINE_AA)\n",
        "  i=i+1\n",
        "#for i in range(0,100):\n",
        "  #start_point = (int(header[i][0]),int(header[i][1]))\n",
        " # print(header[0])\n",
        "  #cv2.line(img,(header[i][0],header[i][1]),(header[i][2],header[i][3]), (255,255,255) , cv2.LINE_AA)\n",
        "\n",
        "#header"
      ],
      "metadata": {
        "colab": {
          "base_uri": "https://localhost:8080/"
        },
        "id": "AJhaDesxtHN3",
        "outputId": "e4168798-aa97-4d26-bf34-e84f52f4d0d6"
      },
      "execution_count": null,
      "outputs": [
        {
          "output_type": "stream",
          "name": "stdout",
          "text": [
            "['32', '225', '39', '197', '-14.036243467926479']\n",
            "['21', '345', '45', '313', '-36.86989764584402']\n",
            "['55', '307', '63', '294', '-31.607502246248906']\n",
            "['69', '297', '83', '290', '-63.43494882292201']\n",
            "['2', '398', '0', '426', '-4.085616779974877']\n"
          ]
        }
      ]
    },
    {
      "cell_type": "code",
      "source": [
        "color = (0, 255, 0)\n",
        "end_point=(0,10)\n"
      ],
      "metadata": {
        "id": "x3PSrBY1tphE"
      },
      "execution_count": null,
      "outputs": []
    },
    {
      "cell_type": "code",
      "source": [
        "cv2_imshow(img)"
      ],
      "metadata": {
        "colab": {
          "base_uri": "https://localhost:8080/",
          "height": 887
        },
        "id": "yajqb-rrxG-3",
        "outputId": "851197da-acef-473d-addb-97f6ccdfe58e"
      },
      "execution_count": null,
      "outputs": [
        {
          "output_type": "display_data",
          "data": {
            "text/plain": [
              "<PIL.Image.Image image mode=L size=636x870 at 0x7FE1BA9E9040>"
            ],
            "image/png": "[encoded data removed]"
          },
          "metadata": {}
        }
      ]
    }
  ]
}