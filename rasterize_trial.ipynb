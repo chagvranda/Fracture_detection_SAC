{
  "nbformat": 4,
  "nbformat_minor": 0,
  "metadata": {
    "colab": {
      "provenance": [],
      "authorship_tag": "ABX9TyOueEtxWFJaZamriJpfMObh",
      "include_colab_link": true
    },
    "kernelspec": {
      "name": "python3",
      "display_name": "Python 3"
    },
    "language_info": {
      "name": "python"
    }
  },
  "cells": [
    {
      "cell_type": "markdown",
      "metadata": {
        "id": "view-in-github",
        "colab_type": "text"
      },
      "source": [
        "<a href=\"https://colab.research.google.com/github/chagvranda/Fracture_detection_SAC/blob/main/rasterize_trial.ipynb\" target=\"_parent\"><img src=\"https://colab.research.google.com/assets/colab-badge.svg\" alt=\"Open In Colab\"/></a>"
      ]
    },
    {
      "cell_type": "code",
      "source": [
        "#####seperate\n",
        "from osgeo import gdal\n",
        "from osgeo import ogr\n",
        "from osgeo import gdalconst\n",
        "\n",
        "ndsm = 'siwana_cropped.tiff'\n",
        "shp = 'siwana_cropped.shp'\n",
        "data = gdal.Open(ndsm, gdalconst.GA_ReadOnly)\n",
        "geo_transform = data.GetGeoTransform()\n",
        "#source_layer = data.GetLayer()\n",
        "x_min = geo_transform[0]\n",
        "y_max = geo_transform[3]\n",
        "x_max = x_min + geo_transform[1] * data.RasterXSize\n",
        "y_min = y_max + geo_transform[5] * data.RasterYSize\n",
        "x_res = data.RasterXSize\n",
        "y_res = data.RasterYSize\n",
        "mb_v = ogr.Open(shp)\n",
        "mb_l = mb_v.GetLayer()\n",
        "pixel_width = geo_transform[1]\n",
        "output = 'rasterize_trial.tif'\n",
        "target_ds = gdal.GetDriverByName('GTiff').Create(output, x_res, y_res, 1, gdal.GDT_Byte)\n",
        "target_ds.SetGeoTransform((x_min, pixel_width, 0, y_min, 0, pixel_width))\n",
        "band = target_ds.GetRasterBand(1)\n",
        "NoData_value = -999999\n",
        "band.SetNoDataValue(NoData_value)\n",
        "band.FlushCache()\n",
        "gdal.RasterizeLayer(target_ds, [1], mb_l, options=[\"ATTRIBUTE=hedgerow\"])\n",
        "\n",
        "target_ds = None"
      ],
      "metadata": {
        "id": "JLBsafnMETYP"
      },
      "execution_count": 2,
      "outputs": []
    }
  ]
}